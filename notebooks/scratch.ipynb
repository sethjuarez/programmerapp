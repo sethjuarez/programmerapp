{
 "cells": [
  {
   "cell_type": "code",
   "execution_count": 1,
   "metadata": {},
   "outputs": [],
   "source": [
    "import mltable"
   ]
  },
  {
   "cell_type": "code",
   "execution_count": 2,
   "metadata": {},
   "outputs": [],
   "source": [
    "tbl = mltable.load('../data')"
   ]
  },
  {
   "cell_type": "code",
   "execution_count": 3,
   "metadata": {},
   "outputs": [
    {
     "data": {
      "text/html": [
       "<div>\n",
       "<style scoped>\n",
       "    .dataframe tbody tr th:only-of-type {\n",
       "        vertical-align: middle;\n",
       "    }\n",
       "\n",
       "    .dataframe tbody tr th {\n",
       "        vertical-align: top;\n",
       "    }\n",
       "\n",
       "    .dataframe thead th {\n",
       "        text-align: right;\n",
       "    }\n",
       "</style>\n",
       "<table border=\"1\" class=\"dataframe\">\n",
       "  <thead>\n",
       "    <tr style=\"text-align: right;\">\n",
       "      <th></th>\n",
       "      <th>age</th>\n",
       "      <th>location</th>\n",
       "      <th>orgsz</th>\n",
       "      <th>style</th>\n",
       "      <th>yoe</th>\n",
       "      <th>projects</th>\n",
       "      <th>accept</th>\n",
       "    </tr>\n",
       "  </thead>\n",
       "  <tbody>\n",
       "    <tr>\n",
       "      <th>0</th>\n",
       "      <td>34.0</td>\n",
       "      <td>South America</td>\n",
       "      <td>751.0</td>\n",
       "      <td>spaces</td>\n",
       "      <td>19.0</td>\n",
       "      <td>26.0</td>\n",
       "      <td>yes</td>\n",
       "    </tr>\n",
       "    <tr>\n",
       "      <th>1</th>\n",
       "      <td>36.0</td>\n",
       "      <td>Oceania</td>\n",
       "      <td>620.0</td>\n",
       "      <td>spaces</td>\n",
       "      <td>17.0</td>\n",
       "      <td>13.0</td>\n",
       "      <td>no</td>\n",
       "    </tr>\n",
       "    <tr>\n",
       "      <th>2</th>\n",
       "      <td>27.0</td>\n",
       "      <td>Asia</td>\n",
       "      <td>533.0</td>\n",
       "      <td>spaces</td>\n",
       "      <td>16.0</td>\n",
       "      <td>11.0</td>\n",
       "      <td>no</td>\n",
       "    </tr>\n",
       "    <tr>\n",
       "      <th>3</th>\n",
       "      <td>36.0</td>\n",
       "      <td>North America</td>\n",
       "      <td>332.0</td>\n",
       "      <td>tabs</td>\n",
       "      <td>8.0</td>\n",
       "      <td>6.0</td>\n",
       "      <td>no</td>\n",
       "    </tr>\n",
       "    <tr>\n",
       "      <th>4</th>\n",
       "      <td>35.0</td>\n",
       "      <td>Oceania</td>\n",
       "      <td>402.0</td>\n",
       "      <td>spaces</td>\n",
       "      <td>14.0</td>\n",
       "      <td>10.0</td>\n",
       "      <td>no</td>\n",
       "    </tr>\n",
       "    <tr>\n",
       "      <th>5</th>\n",
       "      <td>36.0</td>\n",
       "      <td>South America</td>\n",
       "      <td>340.0</td>\n",
       "      <td>tabs</td>\n",
       "      <td>10.0</td>\n",
       "      <td>6.0</td>\n",
       "      <td>no</td>\n",
       "    </tr>\n",
       "    <tr>\n",
       "      <th>6</th>\n",
       "      <td>40.0</td>\n",
       "      <td>Oceania</td>\n",
       "      <td>508.0</td>\n",
       "      <td>spaces</td>\n",
       "      <td>15.0</td>\n",
       "      <td>8.0</td>\n",
       "      <td>no</td>\n",
       "    </tr>\n",
       "    <tr>\n",
       "      <th>7</th>\n",
       "      <td>44.0</td>\n",
       "      <td>North America</td>\n",
       "      <td>629.0</td>\n",
       "      <td>tabs</td>\n",
       "      <td>9.0</td>\n",
       "      <td>5.0</td>\n",
       "      <td>no</td>\n",
       "    </tr>\n",
       "    <tr>\n",
       "      <th>8</th>\n",
       "      <td>34.0</td>\n",
       "      <td>North America</td>\n",
       "      <td>688.0</td>\n",
       "      <td>tabs</td>\n",
       "      <td>7.0</td>\n",
       "      <td>4.0</td>\n",
       "      <td>yes</td>\n",
       "    </tr>\n",
       "    <tr>\n",
       "      <th>9</th>\n",
       "      <td>37.0</td>\n",
       "      <td>Oceania</td>\n",
       "      <td>531.0</td>\n",
       "      <td>spaces</td>\n",
       "      <td>14.0</td>\n",
       "      <td>9.0</td>\n",
       "      <td>no</td>\n",
       "    </tr>\n",
       "    <tr>\n",
       "      <th>10</th>\n",
       "      <td>29.0</td>\n",
       "      <td>Oceania</td>\n",
       "      <td>718.0</td>\n",
       "      <td>spaces</td>\n",
       "      <td>16.0</td>\n",
       "      <td>8.0</td>\n",
       "      <td>no</td>\n",
       "    </tr>\n",
       "    <tr>\n",
       "      <th>11</th>\n",
       "      <td>40.0</td>\n",
       "      <td>South America</td>\n",
       "      <td>157.0</td>\n",
       "      <td>tabs</td>\n",
       "      <td>10.0</td>\n",
       "      <td>5.0</td>\n",
       "      <td>no</td>\n",
       "    </tr>\n",
       "    <tr>\n",
       "      <th>12</th>\n",
       "      <td>36.0</td>\n",
       "      <td>South America</td>\n",
       "      <td>112.0</td>\n",
       "      <td>spaces</td>\n",
       "      <td>17.0</td>\n",
       "      <td>10.0</td>\n",
       "      <td>no</td>\n",
       "    </tr>\n",
       "    <tr>\n",
       "      <th>13</th>\n",
       "      <td>42.0</td>\n",
       "      <td>North America</td>\n",
       "      <td>362.0</td>\n",
       "      <td>tabs</td>\n",
       "      <td>8.0</td>\n",
       "      <td>4.0</td>\n",
       "      <td>no</td>\n",
       "    </tr>\n",
       "    <tr>\n",
       "      <th>14</th>\n",
       "      <td>31.0</td>\n",
       "      <td>North America</td>\n",
       "      <td>427.0</td>\n",
       "      <td>tabs</td>\n",
       "      <td>10.0</td>\n",
       "      <td>5.0</td>\n",
       "      <td>no</td>\n",
       "    </tr>\n",
       "    <tr>\n",
       "      <th>15</th>\n",
       "      <td>37.0</td>\n",
       "      <td>Asia</td>\n",
       "      <td>121.0</td>\n",
       "      <td>spaces</td>\n",
       "      <td>18.0</td>\n",
       "      <td>11.0</td>\n",
       "      <td>no</td>\n",
       "    </tr>\n",
       "    <tr>\n",
       "      <th>16</th>\n",
       "      <td>38.0</td>\n",
       "      <td>South America</td>\n",
       "      <td>413.0</td>\n",
       "      <td>tabs</td>\n",
       "      <td>6.0</td>\n",
       "      <td>6.0</td>\n",
       "      <td>yes</td>\n",
       "    </tr>\n",
       "    <tr>\n",
       "      <th>17</th>\n",
       "      <td>39.0</td>\n",
       "      <td>Asia</td>\n",
       "      <td>519.0</td>\n",
       "      <td>spaces</td>\n",
       "      <td>16.0</td>\n",
       "      <td>12.0</td>\n",
       "      <td>no</td>\n",
       "    </tr>\n",
       "    <tr>\n",
       "      <th>18</th>\n",
       "      <td>39.0</td>\n",
       "      <td>North America</td>\n",
       "      <td>130.0</td>\n",
       "      <td>tabs</td>\n",
       "      <td>6.0</td>\n",
       "      <td>6.0</td>\n",
       "      <td>yes</td>\n",
       "    </tr>\n",
       "    <tr>\n",
       "      <th>19</th>\n",
       "      <td>33.0</td>\n",
       "      <td>North America</td>\n",
       "      <td>339.0</td>\n",
       "      <td>tabs</td>\n",
       "      <td>10.0</td>\n",
       "      <td>5.0</td>\n",
       "      <td>no</td>\n",
       "    </tr>\n",
       "  </tbody>\n",
       "</table>\n",
       "</div>"
      ],
      "text/plain": [
       "     age       location  orgsz   style   yoe  projects accept\n",
       "0   34.0  South America  751.0  spaces  19.0      26.0    yes\n",
       "1   36.0        Oceania  620.0  spaces  17.0      13.0     no\n",
       "2   27.0           Asia  533.0  spaces  16.0      11.0     no\n",
       "3   36.0  North America  332.0    tabs   8.0       6.0     no\n",
       "4   35.0        Oceania  402.0  spaces  14.0      10.0     no\n",
       "5   36.0  South America  340.0    tabs  10.0       6.0     no\n",
       "6   40.0        Oceania  508.0  spaces  15.0       8.0     no\n",
       "7   44.0  North America  629.0    tabs   9.0       5.0     no\n",
       "8   34.0  North America  688.0    tabs   7.0       4.0    yes\n",
       "9   37.0        Oceania  531.0  spaces  14.0       9.0     no\n",
       "10  29.0        Oceania  718.0  spaces  16.0       8.0     no\n",
       "11  40.0  South America  157.0    tabs  10.0       5.0     no\n",
       "12  36.0  South America  112.0  spaces  17.0      10.0     no\n",
       "13  42.0  North America  362.0    tabs   8.0       4.0     no\n",
       "14  31.0  North America  427.0    tabs  10.0       5.0     no\n",
       "15  37.0           Asia  121.0  spaces  18.0      11.0     no\n",
       "16  38.0  South America  413.0    tabs   6.0       6.0    yes\n",
       "17  39.0           Asia  519.0  spaces  16.0      12.0     no\n",
       "18  39.0  North America  130.0    tabs   6.0       6.0    yes\n",
       "19  33.0  North America  339.0    tabs  10.0       5.0     no"
      ]
     },
     "execution_count": 3,
     "metadata": {},
     "output_type": "execute_result"
    }
   ],
   "source": [
    "tbl.show()"
   ]
  },
  {
   "cell_type": "code",
   "execution_count": 4,
   "metadata": {},
   "outputs": [
    {
     "name": "stdout",
     "output_type": "stream",
     "text": [
      "     age       location  orgsz   style   yoe  projects accept\n",
      "0   34.0  South America  751.0  spaces  19.0      26.0    yes\n",
      "1   36.0        Oceania  620.0  spaces  17.0      13.0     no\n",
      "2   27.0           Asia  533.0  spaces  16.0      11.0     no\n",
      "3   36.0  North America  332.0    tabs   8.0       6.0     no\n",
      "4   35.0        Oceania  402.0  spaces  14.0      10.0     no\n",
      "5   36.0  South America  340.0    tabs  10.0       6.0     no\n",
      "6   40.0        Oceania  508.0  spaces  15.0       8.0     no\n",
      "7   44.0  North America  629.0    tabs   9.0       5.0     no\n",
      "8   34.0  North America  688.0    tabs   7.0       4.0    yes\n",
      "9   37.0        Oceania  531.0  spaces  14.0       9.0     no\n",
      "10  29.0        Oceania  718.0  spaces  16.0       8.0     no\n",
      "11  40.0  South America  157.0    tabs  10.0       5.0     no\n",
      "12  36.0  South America  112.0  spaces  17.0      10.0     no\n",
      "13  42.0  North America  362.0    tabs   8.0       4.0     no\n",
      "14  31.0  North America  427.0    tabs  10.0       5.0     no\n",
      "15  37.0           Asia  121.0  spaces  18.0      11.0     no\n",
      "16  38.0  South America  413.0    tabs   6.0       6.0    yes\n",
      "17  39.0           Asia  519.0  spaces  16.0      12.0     no\n",
      "18  39.0  North America  130.0    tabs   6.0       6.0    yes\n",
      "19  33.0  North America  339.0    tabs  10.0       5.0     no\n"
     ]
    }
   ],
   "source": [
    "df = tbl.to_pandas_dataframe()\n",
    "print(df.head(20))"
   ]
  },
  {
   "cell_type": "code",
   "execution_count": 33,
   "metadata": {},
   "outputs": [
    {
     "data": {
      "text/plain": [
       "{'south america': 0,\n",
       " 'oceania': 1,\n",
       " 'asia': 2,\n",
       " 'north america': 3,\n",
       " 'europe': 4,\n",
       " 'africa': 5,\n",
       " 'antartica': 6}"
      ]
     },
     "execution_count": 33,
     "metadata": {},
     "output_type": "execute_result"
    }
   ],
   "source": [
    "locations = df['location'].unique()\n",
    "loc_to_ix = { locations[i].lower(): i for i in range(len(locations)) }\n",
    "loc_to_ix"
   ]
  },
  {
   "cell_type": "code",
   "execution_count": 34,
   "metadata": {},
   "outputs": [
    {
     "data": {
      "text/plain": [
       "{'spaces': 0, 'tabs': 1}"
      ]
     },
     "execution_count": 34,
     "metadata": {},
     "output_type": "execute_result"
    }
   ],
   "source": [
    "styles = df['style'].unique()\n",
    "style_to_ix = { styles[i].lower(): i for i in range(len(styles)) }\n",
    "style_to_ix"
   ]
  },
  {
   "cell_type": "code",
   "execution_count": 59,
   "metadata": {},
   "outputs": [],
   "source": [
    "import torch\n",
    "from torch import nn\n",
    "from torch.utils.data import Dataset, DataLoader"
   ]
  },
  {
   "cell_type": "code",
   "execution_count": 43,
   "metadata": {},
   "outputs": [],
   "source": [
    "lemb = nn.Embedding(len(loc_to_ix), 4)\n",
    "semb = nn.Embedding(len(style_to_ix), 2)"
   ]
  },
  {
   "cell_type": "code",
   "execution_count": 46,
   "metadata": {},
   "outputs": [],
   "source": [
    "lx = lemb(torch.tensor([loc_to_ix['oceania'], loc_to_ix['europe']]))\n",
    "sx = semb(torch.tensor([style_to_ix['tabs'], style_to_ix['spaces']]))"
   ]
  },
  {
   "cell_type": "code",
   "execution_count": 47,
   "metadata": {},
   "outputs": [
    {
     "data": {
      "text/plain": [
       "(tensor([[-0.9111, -1.0998, -1.6127, -0.4499],\n",
       "         [ 0.7109,  1.5743,  1.2630,  1.7974]], grad_fn=<EmbeddingBackward0>),\n",
       " tensor([[ 0.3654, -0.5149],\n",
       "         [-0.7980,  0.7376]], grad_fn=<EmbeddingBackward0>))"
      ]
     },
     "execution_count": 47,
     "metadata": {},
     "output_type": "execute_result"
    }
   ],
   "source": [
    "lx, sx"
   ]
  },
  {
   "cell_type": "code",
   "execution_count": 48,
   "metadata": {},
   "outputs": [
    {
     "data": {
      "text/plain": [
       "tensor([[-0.9111, -1.0998, -1.6127, -0.4499,  0.3654, -0.5149],\n",
       "        [ 0.7109,  1.5743,  1.2630,  1.7974, -0.7980,  0.7376]],\n",
       "       grad_fn=<CatBackward0>)"
      ]
     },
     "execution_count": 48,
     "metadata": {},
     "output_type": "execute_result"
    }
   ],
   "source": [
    "torch.cat((lx, sx), dim=1)"
   ]
  },
  {
   "cell_type": "code",
   "execution_count": 57,
   "metadata": {},
   "outputs": [
    {
     "data": {
      "text/plain": [
       "(34.0, 751.0, 19.0, 26.0)"
      ]
     },
     "execution_count": 57,
     "metadata": {},
     "output_type": "execute_result"
    }
   ],
   "source": [
    "row = df.iloc[0]\n",
    "row['age'], row['orgsz'], row['yoe'], row['projects']"
   ]
  },
  {
   "cell_type": "code",
   "execution_count": 178,
   "metadata": {},
   "outputs": [],
   "source": [
    "class ProgrammerDataset(Dataset):\n",
    "    def __init__(self, path: str):\n",
    "        tbl = mltable.load(path)\n",
    "        self.df = tbl.to_pandas_dataframe()\n",
    "        locations = df['location'].unique()\n",
    "        styles = df['style'].unique()\n",
    "\n",
    "        self.transforms = {\n",
    "            'location': { locations[i].lower(): i for i in range(len(locations)) },\n",
    "            'style': { styles[i].lower(): i for i in range(len(styles)) },\n",
    "            'age': [df['age'].min(), df['age'].max()],\n",
    "            'orgsz': [df['orgsz'].min(), df['orgsz'].max()],\n",
    "            'yoe': [df['yoe'].min(), df['yoe'].max()],\n",
    "            'projects': [df['projects'].min(), df['projects'].max()],\n",
    "            'accept': 'yes'\n",
    "        }\n",
    "\n",
    "    def get(self, row, col: str):\n",
    "        xform = self.transforms[col]\n",
    "        if isinstance(xform, dict):\n",
    "            return xform[row[col].lower()]\n",
    "        elif isinstance(xform, list):\n",
    "            return (row[col] - xform[0]) / (xform[1] - xform[0])\n",
    "        else:\n",
    "            return 1 if xform == row[col] else 0\n",
    "        \n",
    "    def __len__(self):\n",
    "        return len(self.df)\n",
    "    \n",
    "    def __getitem__(self, idx):\n",
    "        row = self.df.iloc[idx]\n",
    "\n",
    "        v = [self.get(row, x) for x in self.transforms.keys()]\n",
    "        return torch.tensor(v[0]), torch.tensor(v[1]), torch.tensor(v[2:-1], dtype=torch.float32), torch.tensor(v[-1])"
   ]
  },
  {
   "cell_type": "code",
   "execution_count": 179,
   "metadata": {},
   "outputs": [
    {
     "data": {
      "text/plain": [
       "{'location': {'south america': 0,\n",
       "  'oceania': 1,\n",
       "  'asia': 2,\n",
       "  'north america': 3,\n",
       "  'europe': 4,\n",
       "  'africa': 5,\n",
       "  'antartica': 6},\n",
       " 'style': {'spaces': 0, 'tabs': 1},\n",
       " 'age': [11.0, 58.0],\n",
       " 'orgsz': [-495.0, 1371.0],\n",
       " 'yoe': [5.0, 24.0],\n",
       " 'projects': [0.0, 40.0],\n",
       " 'accept': 'yes'}"
      ]
     },
     "execution_count": 179,
     "metadata": {},
     "output_type": "execute_result"
    }
   ],
   "source": [
    "dataset = ProgrammerDataset('../data')\n",
    "dataset.transforms"
   ]
  },
  {
   "cell_type": "code",
   "execution_count": 180,
   "metadata": {},
   "outputs": [
    {
     "data": {
      "text/plain": [
       "(tensor(1), tensor(0), tensor([0.5319, 0.5975, 0.6316, 0.3250]), tensor(0))"
      ]
     },
     "execution_count": 180,
     "metadata": {},
     "output_type": "execute_result"
    }
   ],
   "source": [
    "dataset[1]"
   ]
  },
  {
   "cell_type": "code",
   "execution_count": 181,
   "metadata": {},
   "outputs": [],
   "source": [
    "from torch import nn\n",
    "import torch.nn.functional as F"
   ]
  },
  {
   "cell_type": "code",
   "execution_count": 187,
   "metadata": {},
   "outputs": [],
   "source": [
    "class ProgrammerModel(nn.Module):\n",
    "    def __init__(self):\n",
    "        super().__init__()\n",
    "        self.embed1 = nn.Embedding(7, 4)\n",
    "        self.embed2 = nn.Embedding(2, 2)\n",
    "        self.fc1 = nn.Linear(10, 1)\n",
    "\n",
    "    def forward(self, x):\n",
    "        e1 = self.embed1(x[0])\n",
    "        e2 = self.embed2(x[1])\n",
    "        l1 = self.fc1(torch.cat((e1, e2, x[2]), dim=1))\n",
    "        return torch.sigmoid(l1)"
   ]
  },
  {
   "cell_type": "code",
   "execution_count": 188,
   "metadata": {},
   "outputs": [],
   "source": [
    "model = ProgrammerModel()"
   ]
  },
  {
   "cell_type": "code",
   "execution_count": 189,
   "metadata": {},
   "outputs": [],
   "source": [
    "training = DataLoader(dataset, batch_size=6, shuffle=True)"
   ]
  },
  {
   "cell_type": "code",
   "execution_count": 190,
   "metadata": {},
   "outputs": [],
   "source": [
    "x = next(iter(training))"
   ]
  },
  {
   "cell_type": "code",
   "execution_count": 191,
   "metadata": {},
   "outputs": [
    {
     "data": {
      "text/plain": [
       "tensor([[0.5298],\n",
       "        [0.5928],\n",
       "        [0.5225],\n",
       "        [0.5910],\n",
       "        [0.5386],\n",
       "        [0.6814]], grad_fn=<SigmoidBackward0>)"
      ]
     },
     "execution_count": 191,
     "metadata": {},
     "output_type": "execute_result"
    }
   ],
   "source": [
    "model.forward(x)"
   ]
  },
  {
   "cell_type": "code",
   "execution_count": null,
   "metadata": {},
   "outputs": [],
   "source": []
  },
  {
   "cell_type": "code",
   "execution_count": null,
   "metadata": {},
   "outputs": [],
   "source": []
  }
 ],
 "metadata": {
  "kernelspec": {
   "display_name": ".venv",
   "language": "python",
   "name": "python3"
  },
  "language_info": {
   "codemirror_mode": {
    "name": "ipython",
    "version": 3
   },
   "file_extension": ".py",
   "mimetype": "text/x-python",
   "name": "python",
   "nbconvert_exporter": "python",
   "pygments_lexer": "ipython3",
   "version": "3.10.12"
  },
  "orig_nbformat": 4,
  "vscode": {
   "interpreter": {
    "hash": "8132978856d7518d6c34ecffbe1ef747611da8f0b3a8d531d7dfa57963c0e12e"
   }
  }
 },
 "nbformat": 4,
 "nbformat_minor": 2
}
